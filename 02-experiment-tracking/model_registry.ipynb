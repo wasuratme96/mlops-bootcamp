{
 "cells": [
  {
   "cell_type": "code",
   "execution_count": 1,
   "metadata": {},
   "outputs": [],
   "source": [
    "from mlflow.tracking import MlflowClient\n",
    "\n",
    "MLFLOW_TRACKING_URI = 'sqlite:///mlflow.db'\n",
    "client = MlflowClient(tracking_uri=MLFLOW_TRACKING_URI)"
   ]
  },
  {
   "cell_type": "code",
   "execution_count": 2,
   "metadata": {},
   "outputs": [
    {
     "data": {
      "text/plain": [
       "[<Experiment: artifact_location='./mlruns/0', experiment_id='0', lifecycle_stage='active', name='Default', tags={}>,\n",
       " <Experiment: artifact_location='./mlruns/1', experiment_id='1', lifecycle_stage='active', name='nyc-taxi-experimentc', tags={}>]"
      ]
     },
     "execution_count": 2,
     "metadata": {},
     "output_type": "execute_result"
    }
   ],
   "source": [
    "# List experiment in mlflow server\n",
    "client.list_experiments()"
   ]
  },
  {
   "cell_type": "code",
   "execution_count": 3,
   "metadata": {},
   "outputs": [
    {
     "data": {
      "text/plain": [
       "'2'"
      ]
     },
     "execution_count": 3,
     "metadata": {},
     "output_type": "execute_result"
    }
   ],
   "source": [
    "# Create experiment by python script\n",
    "# return is 'experiment_id'\n",
    "client.create_experiment(name = \"nyc-taxi-regressor-advance\")"
   ]
  },
  {
   "cell_type": "code",
   "execution_count": 8,
   "metadata": {},
   "outputs": [],
   "source": [
    "from mlflow.entities import ViewType\n",
    "\n",
    "# experiment_ids is getting from .list_experiments() in above script\n",
    "runs = client.search_runs(\n",
    "    experiment_ids = '1',\n",
    "    filter_string =\"metrics.rmse < 6.8\",\n",
    "    run_view_type = ViewType.ACTIVE_ONLY,\n",
    "    max_results = 5,\n",
    "    order_by = [\"metrics.rmse ASC\"]\n",
    ")"
   ]
  },
  {
   "cell_type": "code",
   "execution_count": 9,
   "metadata": {},
   "outputs": [
    {
     "name": "stdout",
     "output_type": "stream",
     "text": [
      "run id :  32bc6b6711534aaaa56eb1dce64e65e3, rmse : 6.2907\n",
      "run id :  e483667a1ac3497bb2bc18fe374a649f, rmse : 6.2923\n",
      "run id :  fe9eea2587ff4568b5cc785d88f4a981, rmse : 6.2974\n",
      "run id :  a8fb39dba0004ebfa784e1d3d2e772f5, rmse : 6.3250\n",
      "run id :  00d188964e10400da712413a04005960, rmse : 6.3282\n"
     ]
    }
   ],
   "source": [
    "for run in runs:\n",
    "    print(f\"run id :  {run.info.run_id}, rmse : {run.data.metrics['rmse']:.4f}\")"
   ]
  },
  {
   "cell_type": "code",
   "execution_count": 29,
   "metadata": {},
   "outputs": [
    {
     "name": "stderr",
     "output_type": "stream",
     "text": [
      "Registered model 'nyc-taxi-regressor' already exists. Creating a new version of this model...\n",
      "2022/08/06 16:10:59 INFO mlflow.tracking._model_registry.client: Waiting up to 300 seconds for model version to finish creation.                     Model name: nyc-taxi-regressor, version 4\n",
      "Created version '4' of model 'nyc-taxi-regressor'.\n"
     ]
    },
    {
     "data": {
      "text/plain": [
       "<ModelVersion: creation_timestamp=1659777059080, current_stage='None', description=None, last_updated_timestamp=1659777059080, name='nyc-taxi-regressor', run_id='fe9eea2587ff4568b5cc785d88f4a981', run_link=None, source='./mlruns/1/fe9eea2587ff4568b5cc785d88f4a981/artifacts/model', status='READY', status_message=None, tags={}, user_id=None, version=4>"
      ]
     },
     "execution_count": 29,
     "metadata": {},
     "output_type": "execute_result"
    }
   ],
   "source": [
    "import mlflow\n",
    "\n",
    "mlflow.set_tracking_uri(MLFLOW_TRACKING_URI)\n",
    "\n",
    "# Register model \n",
    "run_id = \"fe9eea2587ff4568b5cc785d88f4a981\"\n",
    "model_uri = f\"runs:/{run_id}/model\"\n",
    "mlflow.register_model(model_uri = model_uri, name =\"nyc-taxi-regressor\")"
   ]
  },
  {
   "cell_type": "code",
   "execution_count": 12,
   "metadata": {},
   "outputs": [
    {
     "data": {
      "text/plain": [
       "[<RegisteredModel: creation_timestamp=1659772795062, description='', last_updated_timestamp=1659773491239, latest_versions=[<ModelVersion: creation_timestamp=1659772795082, current_stage='Archived', description='', last_updated_timestamp=1659772904522, name='nyc-taxi-regressor', run_id='fe9eea2587ff4568b5cc785d88f4a981', run_link='', source='./mlruns/1/fe9eea2587ff4568b5cc785d88f4a981/artifacts/models_mlflow', status='READY', status_message=None, tags={'model': 'xgboost-regressor'}, user_id=None, version=1>,\n",
       "  <ModelVersion: creation_timestamp=1659772836844, current_stage='Staging', description='', last_updated_timestamp=1659772890197, name='nyc-taxi-regressor', run_id='9225e3ab75e141daa16ccdbfb297ab30', run_link='', source='./mlruns/1/9225e3ab75e141daa16ccdbfb297ab30/artifacts/model', status='READY', status_message=None, tags={'model': 'gradient-boosting-regressor'}, user_id=None, version=2>,\n",
       "  <ModelVersion: creation_timestamp=1659773491239, current_stage='None', description=None, last_updated_timestamp=1659773491239, name='nyc-taxi-regressor', run_id='32bc6b6711534aaaa56eb1dce64e65e3', run_link=None, source='./mlruns/1/32bc6b6711534aaaa56eb1dce64e65e3/artifacts/model', status='READY', status_message=None, tags={}, user_id=None, version=3>], name='nyc-taxi-regressor', tags={}>]"
      ]
     },
     "execution_count": 12,
     "metadata": {},
     "output_type": "execute_result"
    }
   ],
   "source": [
    "client.list_registered_models()"
   ]
  },
  {
   "cell_type": "code",
   "execution_count": 30,
   "metadata": {},
   "outputs": [
    {
     "name": "stdout",
     "output_type": "stream",
     "text": [
      "version : 1, stage : Archived\n",
      "version : 2, stage : Production\n",
      "version : 3, stage : Staging\n",
      "version : 4, stage : None\n"
     ]
    }
   ],
   "source": [
    "# List model in mlflow client\n",
    "model_name = \"nyc-taxi-regressor\"\n",
    "latest_version = client.get_latest_versions(model_name)\n",
    "for version in latest_version:\n",
    "    print(f\"version : {version.version}, stage : {version.current_stage}\")"
   ]
  },
  {
   "cell_type": "code",
   "execution_count": 33,
   "metadata": {},
   "outputs": [
    {
     "data": {
      "text/plain": [
       "<ModelVersion: creation_timestamp=1659777059080, current_stage='Staging', description=None, last_updated_timestamp=1659777090083, name='nyc-taxi-regressor', run_id='fe9eea2587ff4568b5cc785d88f4a981', run_link=None, source='./mlruns/1/fe9eea2587ff4568b5cc785d88f4a981/artifacts/model', status='READY', status_message=None, tags={}, user_id=None, version=4>"
      ]
     },
     "execution_count": 33,
     "metadata": {},
     "output_type": "execute_result"
    }
   ],
   "source": [
    "# Model stage transition\n",
    "model_version = 4\n",
    "new_stage = \"Staging\"\n",
    "\n",
    "client.transition_model_version_stage(\n",
    "    name = model_name,\n",
    "    version = model_version ,\n",
    "    stage = new_stage,\n",
    "    archive_existing_versions = False\n",
    ")"
   ]
  },
  {
   "cell_type": "code",
   "execution_count": 34,
   "metadata": {},
   "outputs": [
    {
     "data": {
      "text/plain": [
       "<ModelVersion: creation_timestamp=1659777059080, current_stage='Staging', description='The model version 4 was transaitioned to Staging on 2022-08-06', last_updated_timestamp=1659777094406, name='nyc-taxi-regressor', run_id='fe9eea2587ff4568b5cc785d88f4a981', run_link=None, source='./mlruns/1/fe9eea2587ff4568b5cc785d88f4a981/artifacts/model', status='READY', status_message=None, tags={}, user_id=None, version=4>"
      ]
     },
     "execution_count": 34,
     "metadata": {},
     "output_type": "execute_result"
    }
   ],
   "source": [
    "from datetime import datetime\n",
    "\n",
    "date = datetime.today().date()\n",
    "\n",
    "# Update model details\n",
    "client.update_model_version(\n",
    "    name = model_name,\n",
    "    version = model_version,\n",
    "    description = f\"The model version {model_version} was transaitioned to {new_stage} on {date}\"\n",
    ")"
   ]
  },
  {
   "cell_type": "code",
   "execution_count": 60,
   "metadata": {},
   "outputs": [
    {
     "data": {
      "text/plain": [
       "<ModelVersion: creation_timestamp=1659777059080, current_stage='Staging', description='The model version 4 was transaitioned to Staging on 2022-08-06', last_updated_timestamp=1659778197450, name='nyc-taxi-regressor', run_id='fe9eea2587ff4568b5cc785d88f4a981', run_link=None, source='./mlruns/1/fe9eea2587ff4568b5cc785d88f4a981/artifacts/model', status='READY', status_message=None, tags={}, user_id=None, version=4>"
      ]
     },
     "execution_count": 60,
     "metadata": {},
     "output_type": "execute_result"
    }
   ],
   "source": [
    "# Model stage transition\n",
    "client.transition_model_version_stage(\n",
    "    name = model_name,\n",
    "    version = 4 ,\n",
    "    stage = \"Staging\",\n",
    "    archive_existing_versions = False\n",
    ")"
   ]
  },
  {
   "cell_type": "code",
   "execution_count": 50,
   "metadata": {},
   "outputs": [
    {
     "data": {
      "text/plain": [
       "<ModelVersion: creation_timestamp=1659773491239, current_stage='Archived', description='The model version 3 was transaitioned to Staging on 2022-08-06', last_updated_timestamp=1659777685124, name='nyc-taxi-regressor', run_id='32bc6b6711534aaaa56eb1dce64e65e3', run_link=None, source='./mlruns/1/32bc6b6711534aaaa56eb1dce64e65e3/artifacts/model', status='READY', status_message=None, tags={}, user_id=None, version=3>"
      ]
     },
     "execution_count": 50,
     "metadata": {},
     "output_type": "execute_result"
    }
   ],
   "source": [
    "# Model stage transition\n",
    "client.transition_model_version_stage(\n",
    "    name = model_name,\n",
    "    version = 3 ,\n",
    "    stage = \"Archived\",\n",
    "    archive_existing_versions = False\n",
    ")"
   ]
  },
  {
   "cell_type": "markdown",
   "metadata": {},
   "source": [
    "### Testing registered model"
   ]
  },
  {
   "cell_type": "code",
   "execution_count": 40,
   "metadata": {},
   "outputs": [],
   "source": [
    "from sklearn.metrics import mean_squared_error\n",
    "import pandas as pd\n",
    "\n",
    "def read_dataframe(filename:str):\n",
    "    df = pd.read_parquet(filename)\n",
    "    df.lpep_dropoff_datetime = pd.to_datetime(df.lpep_dropoff_datetime)\n",
    "    df.lpep_pickup_datetime = pd.to_datetime(df.lpep_pickup_datetime)\n",
    "\n",
    "    df['duration'] = df.lpep_dropoff_datetime - df.lpep_pickup_datetime\n",
    "    df.duration = df.duration.apply(lambda td: td.total_seconds()/60)\n",
    "\n",
    "    df = df[(df.duration >= 1) & (df.duration <= 60)]\n",
    "\n",
    "    categorical = ['PULocationID' , 'DOLocationID']\n",
    "    df[categorical] = df[categorical].astype(str)\n",
    "\n",
    "    return df\n",
    "\n",
    "def preprocess(df, dv):\n",
    "    df['PU_DO'] = df['PULocationID'] + \"_\" + df[\"DOLocationID\"]\n",
    "    categorical = [\"PU_DO\"]\n",
    "    numerical = [\"trip_distance\"]\n",
    "    train_dicts = df[categorical + numerical].to_dict(orient = \"records\")\n",
    "    return dv.transform(train_dicts)\n",
    "\n",
    "def test_model(name, stage, X_test, y_test):\n",
    "    model = mlflow.pyfunc.load_model(f\"models:/{name}/{stage}\")\n",
    "    y_pred = model.predict(X_test)\n",
    "    return {\"rmse\" : mean_squared_error(y_test, y_pred, squared = False)}"
   ]
  },
  {
   "cell_type": "code",
   "execution_count": 36,
   "metadata": {},
   "outputs": [],
   "source": [
    "df = read_dataframe(\"../data/green_tripdata_2021-03.parquet\")"
   ]
  },
  {
   "cell_type": "code",
   "execution_count": 45,
   "metadata": {},
   "outputs": [
    {
     "data": {
      "text/plain": [
       "'/Users/wasuratsoontronchai/Documents/GitHub/mlops-bootcamp/02-experiment-tracking/preprocessor'"
      ]
     },
     "execution_count": 45,
     "metadata": {},
     "output_type": "execute_result"
    }
   ],
   "source": [
    "client.download_artifacts(run_id = run_id, path = 'preprocessor', dst_path = '.')"
   ]
  },
  {
   "cell_type": "code",
   "execution_count": 46,
   "metadata": {},
   "outputs": [],
   "source": [
    "import pickle\n",
    "\n",
    "with open(\"../models/preprocessor/preprocessor.b\", \"rb\") as f_in:\n",
    "    dv = pickle.load(f_in)"
   ]
  },
  {
   "cell_type": "code",
   "execution_count": 47,
   "metadata": {},
   "outputs": [],
   "source": [
    "X_test = preprocess(df, dv)\n",
    "\n",
    "target = \"duration\"\n",
    "y_test = df[target].values"
   ]
  },
  {
   "cell_type": "code",
   "execution_count": 63,
   "metadata": {},
   "outputs": [
    {
     "name": "stdout",
     "output_type": "stream",
     "text": [
      "CPU times: user 106 ms, sys: 2.74 ms, total: 109 ms\n",
      "Wall time: 107 ms\n"
     ]
    },
    {
     "data": {
      "text/plain": [
       "{'rmse': 6.659623830022513}"
      ]
     },
     "execution_count": 63,
     "metadata": {},
     "output_type": "execute_result"
    }
   ],
   "source": [
    "%time test_model(name = model_name, stage = \"Production\", X_test=X_test, y_test = y_test)"
   ]
  },
  {
   "cell_type": "code",
   "execution_count": 68,
   "metadata": {},
   "outputs": [
    {
     "name": "stdout",
     "output_type": "stream",
     "text": [
      "[16:33:48] WARNING: /Users/runner/work/xgboost/xgboost/python-package/build/temp.macosx-10.9-x86_64-3.7/xgboost/src/objective/regression_obj.cu:203: reg:linear is now deprecated in favor of reg:squarederror.\n",
      "CPU times: user 10.3 s, sys: 63 ms, total: 10.3 s\n",
      "Wall time: 796 ms\n"
     ]
    },
    {
     "data": {
      "text/plain": [
       "{'rmse': 6.244794058492957}"
      ]
     },
     "execution_count": 68,
     "metadata": {},
     "output_type": "execute_result"
    }
   ],
   "source": [
    "%time test_model(name = model_name, stage = \"Staging\", X_test=X_test, y_test = y_test)"
   ]
  },
  {
   "cell_type": "code",
   "execution_count": null,
   "metadata": {},
   "outputs": [],
   "source": []
  }
 ],
 "metadata": {
  "interpreter": {
   "hash": "205c1fa0278b6458292bb24a91148809503b133704487d240a1a9bb8f8359f67"
  },
  "kernelspec": {
   "display_name": "Python 3.9.13 ('exp-tracking-env')",
   "language": "python",
   "name": "python3"
  },
  "language_info": {
   "codemirror_mode": {
    "name": "ipython",
    "version": 3
   },
   "file_extension": ".py",
   "mimetype": "text/x-python",
   "name": "python",
   "nbconvert_exporter": "python",
   "pygments_lexer": "ipython3",
   "version": "3.9.13"
  },
  "orig_nbformat": 4
 },
 "nbformat": 4,
 "nbformat_minor": 2
}
